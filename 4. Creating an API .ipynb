{
 "cells": [
  {
   "cell_type": "markdown",
   "id": "444da93c",
   "metadata": {},
   "source": [
    "## 4. Creating an API"
   ]
  },
  {
   "cell_type": "code",
   "execution_count": 6,
   "id": "ad9adbed",
   "metadata": {},
   "outputs": [],
   "source": [
    "import requests\n",
    "from flask import Flask\n",
    "import random"
   ]
  },
  {
   "cell_type": "code",
   "execution_count": null,
   "id": "9a902d00",
   "metadata": {},
   "outputs": [
    {
     "name": "stdout",
     "output_type": "stream",
     "text": [
      " * Serving Flask app '__main__' (lazy loading)\n",
      " * Environment: production\n",
      "\u001b[31m   WARNING: This is a development server. Do not use it in a production deployment.\u001b[0m\n",
      "\u001b[2m   Use a production WSGI server instead.\u001b[0m\n",
      " * Debug mode: off\n"
     ]
    },
    {
     "name": "stderr",
     "output_type": "stream",
     "text": [
      " * Running on http://127.0.0.1:5000/ (Press CTRL+C to quit)\n",
      "127.0.0.1 - - [13/Nov/2022 19:28:27] \"GET / HTTP/1.1\" 200 -\n",
      "127.0.0.1 - - [13/Nov/2022 19:28:28] \"GET /favicon.ico HTTP/1.1\" 404 -\n",
      "127.0.0.1 - - [13/Nov/2022 19:28:33] \"GET / HTTP/1.1\" 200 -\n",
      "127.0.0.1 - - [13/Nov/2022 19:28:56] \"GET /campus/mad HTTP/1.1\" 200 -\n"
     ]
    }
   ],
   "source": [
    "app = Flask(__name__)\n",
    "\n",
    "@app.route(\"/\")\n",
    "def greeting ():\n",
    "    return f\"How are you doing\"\n",
    "\n",
    "\n",
    "@app.route(\"/random-number\")\n",
    "def random_number ():\n",
    "    return str(random.choice(range(0,11)))\n",
    "\n",
    "@app.route(\"/campus/<location>\")\n",
    "def campus_location (location):\n",
    "    if location == \"bcn\":\n",
    "        return \"Carrer Pamplona 96\"\n",
    "    elif location == \"mad\":\n",
    "        return \"Paseo de la chopera, 14\"\n",
    "    else: \n",
    "        return \"No campus here :/\"\n",
    "      \n",
    "if __name__ == '__main__':\n",
    "    app.run()"
   ]
  },
  {
   "cell_type": "code",
   "execution_count": null,
   "id": "26d5e490",
   "metadata": {},
   "outputs": [],
   "source": []
  }
 ],
 "metadata": {
  "kernelspec": {
   "display_name": "ironhack",
   "language": "python",
   "name": "ironhack"
  },
  "language_info": {
   "codemirror_mode": {
    "name": "ipython",
    "version": 3
   },
   "file_extension": ".py",
   "mimetype": "text/x-python",
   "name": "python",
   "nbconvert_exporter": "python",
   "pygments_lexer": "ipython3",
   "version": "3.10.6"
  }
 },
 "nbformat": 4,
 "nbformat_minor": 5
}
