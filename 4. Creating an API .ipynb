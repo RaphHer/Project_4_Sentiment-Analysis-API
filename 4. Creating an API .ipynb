{
 "cells": [
  {
   "cell_type": "markdown",
   "id": "444da93c",
   "metadata": {},
   "source": [
    "## 4. Creating an API"
   ]
  },
  {
   "cell_type": "code",
   "execution_count": null,
   "id": "ad9adbed",
   "metadata": {},
   "outputs": [],
   "source": [
    "import requests\n",
    "from flask import Flask\n",
    "import random"
   ]
  },
  {
   "cell_type": "code",
   "execution_count": null,
   "id": "2d7a4a1c",
   "metadata": {},
   "outputs": [],
   "source": [
    "app = Flask(__name__)\n",
    "\n",
    "@app.route(\"/\")\n",
    "def greeting ():\n",
    "    return f\"How are you doing\"\n",
    "\n",
    "\n",
    "@app.route(\"/random-number\")\n",
    "def random_number ():\n",
    "    return str(random.choice(range(0,11)))\n",
    "\n",
    "@app.route(\"/campus/<location>\")\n",
    "def campus_location (location):\n",
    "    if location == \"bcn\":\n",
    "        return \"Carrer Pamplona 96\"\n",
    "    elif location == \"mad\":\n",
    "        return \"Paseo de la chopera, 14\"\n",
    "    else: \n",
    "        return \"No campus here :/\"\n",
    "      \n",
    "if __name__ == '__main__':\n",
    "    app.run()"
   ]
  },
  {
   "cell_type": "markdown",
   "id": "ec1da61f",
   "metadata": {},
   "source": [
    "what can things you can answer \n",
    "most frequent words\n",
    "most frequeent characters \n",
    "and then run sentimental anaylsis \n",
    "exemple of get/post query "
   ]
  },
  {
   "cell_type": "code",
   "execution_count": null,
   "id": "161aa3b8",
   "metadata": {},
   "outputs": [],
   "source": []
  }
 ],
 "metadata": {
  "kernelspec": {
   "display_name": "ironhack",
   "language": "python",
   "name": "ironhack"
  },
  "language_info": {
   "codemirror_mode": {
    "name": "ipython",
    "version": 3
   },
   "file_extension": ".py",
   "mimetype": "text/x-python",
   "name": "python",
   "nbconvert_exporter": "python",
   "pygments_lexer": "ipython3",
   "version": "3.10.6"
  }
 },
 "nbformat": 4,
 "nbformat_minor": 5
}
